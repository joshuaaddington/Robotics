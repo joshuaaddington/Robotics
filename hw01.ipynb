{
    "cells": [
        {
            "cell_type": "markdown",
            "metadata": {},
            "source": [
                "# HW 1: Introduction and Setup\n",
                "* Strongly consider completing the tutorial here (unless you already have significant experience with VS Code and Python) - https://code.visualstudio.com/docs/python/python-tutorial\n",
                "* Make sure to have set up your Python environment and installation of Python libraries correctly (see \"requirements.txt\" file in this folder, and this link for more about environments in VS Code - https://code.visualstudio.com/docs/python/environments#_creating-environments). \n",
                "* Run this notebook and check the output\n",
                "* If things are set up correctly, you should see two coordinate frames appear in a new window.\n",
                "* Play with these values a little to start to get some intuition for what these matrices mean.  "
            ]
        },
        {
            "cell_type": "code",
            "execution_count": 1,
            "metadata": {},
            "outputs": [],
            "source": [
                "# this cell will fail if you haven't correctly installed the libraries in the \"requiremnts.txt\" file\n",
                "import numpy as np\n",
                "import time\n",
                "from visualization import VizScene \n",
                "\n",
                "Tw_to_frame1 = np.array([[1, 0,  0,  1],\n",
                "                         [0, 0, -1,  0],\n",
                "                         [0, 1,  0,  0],\n",
                "                         [0, 0,  0,  1]])\n",
                "                         \n",
                "viz = VizScene()\n",
                "viz.add_frame(np.eye(4), label='world')\n",
                "viz.add_frame(Tw_to_frame1, label='frame1')\n",
                "\n",
                "time_to_run = 10\n",
                "refresh_rate = 60\n",
                "for i in range(refresh_rate * time_to_run):\n",
                "    t = time.time()\n",
                "    Tw_to_frame1 = np.array([[np.cos(np.pi/2*t), -np.sin(np.pi/2*t), 0, 1],\n",
                "                             [np.sin(np.pi/2*t), np.cos(np.pi/2*t), 0, 0],\n",
                "                             [0, 0, 1, 0],\n",
                "                             [0, 0, 0, 0]])\n",
                "    viz.update(As=[np.eye(4), Tw_to_frame1])\n",
                "    time.sleep(1.0/refresh_rate)\n",
                "    \n",
                "viz.close_viz()\n"
            ]
        }
    ],
    "metadata": {
        "kernelspec": {
            "display_name": ".venv",
            "language": "python",
            "name": "python3"
        },
        "language_info": {
            "codemirror_mode": {
                "name": "ipython",
                "version": 3
            },
            "file_extension": ".py",
            "mimetype": "text/x-python",
            "name": "python",
            "nbconvert_exporter": "python",
            "pygments_lexer": "ipython3",
            "version": "3.12.5"
        },
        "orig_nbformat": 4
    },
    "nbformat": 4,
    "nbformat_minor": 2
}
