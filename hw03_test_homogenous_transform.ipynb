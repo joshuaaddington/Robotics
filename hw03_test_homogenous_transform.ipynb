{
    "cells": [
        {
            "cell_type": "markdown",
            "metadata": {},
            "source": [
                "# HW 3: Introduction and Setup\n",
                "* Copy the contents of the file \"transforms_hw03.py\" to the bottom of your \"transforms.py\" file.\n",
                "* Complete the function definitions for \"se3\" and \"inv\" \n",
                "* Run this notebook and check the outputs to make sure everything matches. If your code is correct, the output should exactly match the homogenous transformation matrices shown below. \n",
                "* Make sure to review each cell and think about what the operation means. Does it make sense? If not, ask about it on Piazza or in office hours. "
            ]
        },
        {
            "cell_type": "code",
            "execution_count": 1,
            "metadata": {},
            "outputs": [],
            "source": [
                "import transforms as tr\n",
                "import numpy as np\n",
                "from visualization import VizScene \n",
                "import time"
            ]
        },
        {
            "cell_type": "markdown",
            "metadata": {},
            "source": [
                "## Homogeneous matrix made of only rotation about z-axis by amount $\\frac{\\pi}{4}$\n",
                "\n",
                "Rotation by amount theta around the z-axis should give the following:\n",
                "$$\n",
                "\\left[\\begin{matrix}0.707 & -0.707 & 0 & 0\\\\ 0.707 & 0.707 & 0 & 0\\\\0 & 0 & 1 & 0\\\\0 & 0 & 0 & 1\\end{matrix}\\right]\n",
                "$$"
            ]
        },
        {
            "cell_type": "code",
            "execution_count": 2,
            "metadata": {},
            "outputs": [
                {
                    "name": "stdout",
                    "output_type": "stream",
                    "text": [
                        "[[0.707106781186548 -0.707106781186547 0 0]\n",
                        " [0.707106781186547 0.707106781186548 0 0]\n",
                        " [0 0 1 0]\n",
                        " [0 0 0 1]]\n"
                    ]
                }
            ],
            "source": [
                "T = tr.se3(tr.rotz(np.pi/4))\n",
                "print(T)\n"
            ]
        },
        {
            "cell_type": "code",
            "execution_count": null,
            "metadata": {},
            "outputs": [],
            "source": []
        },
        {
            "cell_type": "markdown",
            "metadata": {},
            "source": [
                "## Translation only along the x-axis by an amount $0.5$ should give the following:\n",
                "$$\n",
                "\\left[\\begin{matrix}1 & 0 & 0 & 0.5 \\\\0 & 1 & 0 & 0\\\\0 & 0 & 1 & 0\\\\0 & 0 & 0 & 1\\end{matrix}\\right]\n",
                "$$"
            ]
        },
        {
            "cell_type": "code",
            "execution_count": 3,
            "metadata": {},
            "outputs": [
                {
                    "name": "stdout",
                    "output_type": "stream",
                    "text": [
                        "[[1.  0.  0.  0.5]\n",
                        " [0.  1.  0.  0. ]\n",
                        " [0.  0.  1.  0. ]\n",
                        " [0.  0.  0.  1. ]]\n"
                    ]
                }
            ],
            "source": [
                "T = tr.se3(p=[0.5, 0, 0])\n",
                "print(T)"
            ]
        },
        {
            "cell_type": "markdown",
            "metadata": {},
            "source": [
                "# Checking the \"inv\" function\n",
                "\n",
                "If we calculate a homogenous transform with a rotation of 45 degrees about the x-axis and a general translation ($[0.5, 0.25, 0.3]^T$) we get the following:\n",
                "$$\n",
                "\\left[\\begin{matrix}1 & 0 & 0 & 0.5\\\\0 & 0.707106781186548 & -0.707106781186547 & 0.25\\\\0 & 0.707106781186547 & 0.707106781186548 & 0.3\\\\0 & 0 & 0 & 1\\end{matrix}\\right]\n",
                "$$\n",
                "\n",
                "Then, we can multiply the original transform by its inverse to check out inverse function, we should get the following:\n",
                "$$\n",
                "\\left[\\begin{matrix}1 & 0 & 0 & 0\\\\0 & 1.0 & 0 & 0\\\\0 & 0 & 1.0 & 0\\\\0 & 0 & 0 & 1\\end{matrix}\\right]\n",
                "$$"
            ]
        },
        {
            "cell_type": "code",
            "execution_count": 4,
            "metadata": {},
            "outputs": [
                {
                    "name": "stdout",
                    "output_type": "stream",
                    "text": [
                        "[[1 0 0 0.5]\n",
                        " [0 0.707106781186548 -0.707106781186547 0.25]\n",
                        " [0 0.707106781186547 0.707106781186548 0.3]\n",
                        " [0 0 0 1]]\n",
                        "\n",
                        "\n",
                        " inv(T) @ T should give identity matrix:\n",
                        "[[1.0 0 0 0.0]\n",
                        " [0 1.00000000000000 0 0]\n",
                        " [0 0 1.00000000000000 0]\n",
                        " [0 0 0 1.0]]\n"
                    ]
                }
            ],
            "source": [
                "T = tr.se3(tr.rotx(np.pi/4), [0.5, 0.25, 0.3])\n",
                "print(T)\n",
                "\n",
                "# now we can check if we implemented \"inv\" correctly:\n",
                "check = tr.inv(T) @ T\n",
                "print(\"\\n\\n inv(T) @ T should give identity matrix:\")\n",
                "print(check)\n"
            ]
        },
        {
            "cell_type": "markdown",
            "metadata": {},
            "source": [
                "# Transform a point in one frame to another frame\n"
            ]
        },
        {
            "cell_type": "markdown",
            "metadata": {},
            "source": [
                "## DH parameters combined for a single joint:\n",
                "\n",
                "Remember that if we combine a rotation in z, translation in z, then translation in x, and rotation in x, we should get the same result as the book for following the DH convention to move from one frame (or joint) to another as follows: \n",
                "\n",
                "$$\n",
                "\\left[\\begin{matrix}\\cos{\\left(\\theta \\right)} & - \\sin{\\left(\\theta \\right)} \\cos{\\left(\\alpha \\right)} & \\sin{\\left(\\alpha \\right)} \\sin{\\left(\\theta \\right)} & a \\cos{\\left(\\theta \\right)}\\\\\\sin{\\left(\\theta \\right)} & \\cos{\\left(\\alpha \\right)} \\cos{\\left(\\theta \\right)} & - \\sin{\\left(\\alpha \\right)} \\cos{\\left(\\theta \\right)} & a \\sin{\\left(\\theta \\right)}\\\\0 & \\sin{\\left(\\alpha \\right)} & \\cos{\\left(\\alpha \\right)} & d\\\\0 & 0 & 0 & 1\\end{matrix}\\right]\n",
                "$$\n",
                "\n",
                "In future homework, we'll implement representations of robot arms that include this transformation. But for the test values of DH parameters below, we can perform this sequence of operations manually.  \n",
                "\n",
                "Assuming the following DH parameters for two joints:\n",
                "\n",
                "$\\theta_1 = \\frac{\\pi}{8}$, $d_1 = 0$, $a_1 = 0.3$, $\\alpha_1 = \\frac{\\pi}{2}$\n",
                "\n",
                "$\\theta_2 = \\frac{\\pi}{4}$, $d_2 = 0$, $a_2 = 0.3$, $\\alpha_2 = 0$\n",
                "\n",
                "\n",
                "The resulting homogeneous transform describing the tip (or frame 2) relate to frame 0 would be:\n",
                "\n",
                "$$\n",
                "\\left[\\begin{matrix}0.653281482438188 & -0.653281482438188 & 0.38268343236509 & 0.473148304484842\\\\0.270598050073099 & -0.270598050073099 & -0.923879532511287 & 0.195984444731456\\\\0.707106781186548 & 0.707106781186548 & 0 & 0.212132034355964\\\\0 & 0 & 0 & 1.0\\end{matrix}\\right]\n",
                "$$"
            ]
        },
        {
            "cell_type": "code",
            "execution_count": 1,
            "metadata": {},
            "outputs": [
                {
                    "name": "stdout",
                    "output_type": "stream",
                    "text": [
                        "[[ 0.653268 -0.653268  0.383     0.472888]\n",
                        " [ 0.270781 -0.270781 -0.924     0.196196]\n",
                        " [ 0.707     0.707     0.        0.212   ]\n",
                        " [ 0.        0.        0.        1.      ]]\n"
                    ]
                },
                {
                    "ename": "IndexError",
                    "evalue": "list index out of range",
                    "output_type": "error",
                    "traceback": [
                        "\u001b[1;31m---------------------------------------------------------------------------\u001b[0m",
                        "\u001b[1;31mIndexError\u001b[0m                                Traceback (most recent call last)",
                        "Cell \u001b[1;32mIn[1], line 47\u001b[0m\n\u001b[0;32m     42\u001b[0m     t \u001b[38;5;241m=\u001b[39m time\u001b[38;5;241m.\u001b[39mtime()\n\u001b[0;32m     43\u001b[0m     Tw_to_frame1 \u001b[38;5;241m=\u001b[39m np\u001b[38;5;241m.\u001b[39marray([[np\u001b[38;5;241m.\u001b[39mcos(np\u001b[38;5;241m.\u001b[39mpi\u001b[38;5;241m/\u001b[39m\u001b[38;5;241m2\u001b[39m\u001b[38;5;241m*\u001b[39mt), \u001b[38;5;241m-\u001b[39mnp\u001b[38;5;241m.\u001b[39msin(np\u001b[38;5;241m.\u001b[39mpi\u001b[38;5;241m/\u001b[39m\u001b[38;5;241m2\u001b[39m\u001b[38;5;241m*\u001b[39mt), \u001b[38;5;241m0\u001b[39m, \u001b[38;5;241m1\u001b[39m],\n\u001b[0;32m     44\u001b[0m                              [np\u001b[38;5;241m.\u001b[39msin(np\u001b[38;5;241m.\u001b[39mpi\u001b[38;5;241m/\u001b[39m\u001b[38;5;241m2\u001b[39m\u001b[38;5;241m*\u001b[39mt), np\u001b[38;5;241m.\u001b[39mcos(np\u001b[38;5;241m.\u001b[39mpi\u001b[38;5;241m/\u001b[39m\u001b[38;5;241m2\u001b[39m\u001b[38;5;241m*\u001b[39mt), \u001b[38;5;241m0\u001b[39m, \u001b[38;5;241m0\u001b[39m],\n\u001b[0;32m     45\u001b[0m                              [\u001b[38;5;241m0\u001b[39m, \u001b[38;5;241m0\u001b[39m, \u001b[38;5;241m1\u001b[39m, \u001b[38;5;241m0\u001b[39m],\n\u001b[0;32m     46\u001b[0m                              [\u001b[38;5;241m0\u001b[39m, \u001b[38;5;241m0\u001b[39m, \u001b[38;5;241m0\u001b[39m, \u001b[38;5;241m0\u001b[39m]])\n\u001b[1;32m---> 47\u001b[0m     \u001b[43mviz\u001b[49m\u001b[38;5;241;43m.\u001b[39;49m\u001b[43mupdate\u001b[49m\u001b[43m(\u001b[49m\u001b[43mAs\u001b[49m\u001b[38;5;241;43m=\u001b[39;49m\u001b[43m[\u001b[49m\u001b[43mnp\u001b[49m\u001b[38;5;241;43m.\u001b[39;49m\u001b[43meye\u001b[49m\u001b[43m(\u001b[49m\u001b[38;5;241;43m4\u001b[39;49m\u001b[43m)\u001b[49m\u001b[43m,\u001b[49m\u001b[43m \u001b[49m\u001b[43mTw_to_frame1\u001b[49m\u001b[43m]\u001b[49m\u001b[43m)\u001b[49m\n\u001b[0;32m     48\u001b[0m     time\u001b[38;5;241m.\u001b[39msleep(\u001b[38;5;241m1.0\u001b[39m\u001b[38;5;241m/\u001b[39mrefresh_rate)\n\u001b[0;32m     50\u001b[0m viz\u001b[38;5;241m.\u001b[39mclose_viz()\n",
                        "File \u001b[1;32mc:\\Users\\joshu\\Documents\\BYU\\2024_Fall\\Robotics\\Robotics\\visualization.py:372\u001b[0m, in \u001b[0;36mVizScene.update\u001b[1;34m(self, qs, As, poss)\u001b[0m\n\u001b[0;32m    370\u001b[0m \u001b[38;5;28;01mif\u001b[39;00m \u001b[38;5;28misinstance\u001b[39m(As, (\u001b[38;5;28mlist\u001b[39m, \u001b[38;5;28mtuple\u001b[39m)):\n\u001b[0;32m    371\u001b[0m     \u001b[38;5;28;01mfor\u001b[39;00m i \u001b[38;5;129;01min\u001b[39;00m \u001b[38;5;28mrange\u001b[39m(\u001b[38;5;28mlen\u001b[39m(\u001b[38;5;28mself\u001b[39m\u001b[38;5;241m.\u001b[39mframes)):\n\u001b[1;32m--> 372\u001b[0m         \u001b[38;5;28mself\u001b[39m\u001b[38;5;241m.\u001b[39mframes[i]\u001b[38;5;241m.\u001b[39mupdate(\u001b[43mAs\u001b[49m\u001b[43m[\u001b[49m\u001b[43mi\u001b[49m\u001b[43m]\u001b[49m)\n\u001b[0;32m    373\u001b[0m \u001b[38;5;28;01melif\u001b[39;00m \u001b[38;5;28mlen\u001b[39m(As\u001b[38;5;241m.\u001b[39mshape) \u001b[38;5;241m==\u001b[39m \u001b[38;5;241m3\u001b[39m:\n\u001b[0;32m    374\u001b[0m     \u001b[38;5;28;01mfor\u001b[39;00m i \u001b[38;5;129;01min\u001b[39;00m \u001b[38;5;28mrange\u001b[39m(\u001b[38;5;28mlen\u001b[39m(\u001b[38;5;28mself\u001b[39m\u001b[38;5;241m.\u001b[39mframes)):\n",
                        "\u001b[1;31mIndexError\u001b[0m: list index out of range"
                    ]
                },
                {
                    "ename": "",
                    "evalue": "",
                    "output_type": "error",
                    "traceback": [
                        "\u001b[1;31mThe Kernel crashed while executing code in the current cell or a previous cell. \n",
                        "\u001b[1;31mPlease review the code in the cell(s) to identify a possible cause of the failure. \n",
                        "\u001b[1;31mClick <a href='https://aka.ms/vscodeJupyterKernelCrash'>here</a> for more info. \n",
                        "\u001b[1;31mView Jupyter <a href='command:jupyter.viewOutput'>log</a> for further details."
                    ]
                }
            ],
            "source": [
                "import transforms as tr\n",
                "import numpy as np\n",
                "from visualization import VizScene \n",
                "import time\n",
                "\n",
                "# start by substituting the actual values for R and p and making a new SE3 object\n",
                "# that describes the transformation from frame 0 to frame 1\n",
                "\n",
                "# TODO - fill this out \n",
                "# find the transformation from frame 0 to 1\n",
                "T1_in_0 = np.array([[.924,0,.383,.277],[.383,0,-.924,.115],[0,1,0,0],[0,0,0,1]])\n",
                "\n",
                "# do the same thing for frame 1 to frame 2\n",
                "T2_in_1 = np.array([[.707,-.707,0,.212],[.707,.707,0,.212],[0,0,1,0],[0,0,0,1]])\n",
                "\n",
                "# now we can combine the two to get a transformation that describes frame 2 \n",
                "# relative to frame 0\n",
                "T2_in_0 = T1_in_0 @ T2_in_1\n",
                "\n",
                "\n",
                "# printing the result\n",
                "print(T2_in_0)\n",
                "\n",
                "# use the \"add_frame\" function to plot both frames (for joint 1 and joint 2) relative \n",
                "# to a base or ground frame. \n",
                "\n",
                "# TODO - put your visualization code here. \n",
                "\n",
                "Tw_to_frame1 = np.array([[1, 0,  0,  1],\n",
                "                         [0, 0, -1,  0],\n",
                "                         [0, 1,  0,  0],\n",
                "                         [0, 0,  0,  1]])\n",
                "                         \n",
                "viz = VizScene()\n",
                "viz.add_frame(np.eye(4), label='world')\n",
                "viz.add_frame(T2_in_1, label = \"T2_in_1\")\n",
                "viz.add_frame(T1_in_0, label = \"T1_in_0\")\n",
                "\n",
                "time_to_run = 10\n",
                "refresh_rate = 60\n",
                "for i in range(refresh_rate * time_to_run):\n",
                "    t = time.time()\n",
                "    Tw_to_frame1 = np.array([[np.cos(np.pi/2*t), -np.sin(np.pi/2*t), 0, 1],\n",
                "                             [np.sin(np.pi/2*t), np.cos(np.pi/2*t), 0, 0],\n",
                "                             [0, 0, 1, 0],\n",
                "                             [0, 0, 0, 0]])\n",
                "    viz.update(As=[np.eye(4), Tw_to_frame1])\n",
                "    time.sleep(1.0/refresh_rate)\n",
                "\n",
                "viz.close_viz()\n"
            ]
        },
        {
            "cell_type": "code",
            "execution_count": 6,
            "metadata": {},
            "outputs": [
                {
                    "data": {
                        "text/plain": [
                            "''"
                        ]
                    },
                    "execution_count": 6,
                    "metadata": {},
                    "output_type": "execute_result"
                }
            ],
            "source": [
                "\"\""
            ]
        }
    ],
    "metadata": {
        "kernelspec": {
            "display_name": ".venv",
            "language": "python",
            "name": "python3"
        },
        "language_info": {
            "codemirror_mode": {
                "name": "ipython",
                "version": 3
            },
            "file_extension": ".py",
            "mimetype": "text/x-python",
            "name": "python",
            "nbconvert_exporter": "python",
            "pygments_lexer": "ipython3",
            "version": "3.12.5"
        },
        "orig_nbformat": 4
    },
    "nbformat": 4,
    "nbformat_minor": 2
}
